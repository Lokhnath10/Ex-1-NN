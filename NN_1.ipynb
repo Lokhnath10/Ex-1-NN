{
  "nbformat": 4,
  "nbformat_minor": 0,
  "metadata": {
    "colab": {
      "provenance": []
    },
    "kernelspec": {
      "name": "python3",
      "display_name": "Python 3"
    },
    "language_info": {
      "name": "python"
    }
  },
  "cells": [
    {
      "cell_type": "code",
      "execution_count": 1,
      "metadata": {
        "id": "sL6b-CI7w2Vi"
      },
      "outputs": [],
      "source": [
        "import pandas as pd\n",
        "from sklearn.preprocessing import MinMaxScaler\n",
        "from sklearn.model_selection import train_test_split"
      ]
    },
    {
      "cell_type": "code",
      "source": [
        "df = pd.read_csv(\"Churn_Modelling.csv\")"
      ],
      "metadata": {
        "id": "P3_psQ9ExIO-"
      },
      "execution_count": 2,
      "outputs": []
    },
    {
      "cell_type": "markdown",
      "source": [
        "Handling Missing Values"
      ],
      "metadata": {
        "id": "er17EXcBxqyy"
      }
    },
    {
      "cell_type": "code",
      "source": [
        "print(\"Missing Values:\\n\", df.isnull().sum(), '\\n')"
      ],
      "metadata": {
        "colab": {
          "base_uri": "https://localhost:8080/"
        },
        "id": "K_-JyDVuxPrH",
        "outputId": "65720724-3f09-4dca-db4b-0ec34bc30748"
      },
      "execution_count": 3,
      "outputs": [
        {
          "output_type": "stream",
          "name": "stdout",
          "text": [
            "Missing Values:\n",
            " RowNumber          0\n",
            "CustomerId         0\n",
            "Surname            0\n",
            "CreditScore        0\n",
            "Geography          0\n",
            "Gender             0\n",
            "Age                0\n",
            "Tenure             0\n",
            "Balance            0\n",
            "NumOfProducts      0\n",
            "HasCrCard          0\n",
            "IsActiveMember     0\n",
            "EstimatedSalary    0\n",
            "Exited             0\n",
            "dtype: int64 \n",
            "\n"
          ]
        }
      ]
    },
    {
      "cell_type": "markdown",
      "source": [
        "Handling Duplicates (if any)"
      ],
      "metadata": {
        "id": "s3u1eN1XxvRS"
      }
    },
    {
      "cell_type": "code",
      "source": [
        "duplicates = df.duplicated().sum()\n",
        "print(f\"Number of duplicate rows: {duplicates}\\n\")"
      ],
      "metadata": {
        "colab": {
          "base_uri": "https://localhost:8080/"
        },
        "id": "duWduamPxRco",
        "outputId": "c0a92020-e49e-4659-af9c-56d0ec65732c"
      },
      "execution_count": 4,
      "outputs": [
        {
          "output_type": "stream",
          "name": "stdout",
          "text": [
            "Number of duplicate rows: 0\n",
            "\n"
          ]
        }
      ]
    },
    {
      "cell_type": "markdown",
      "source": [
        "Checking For Outliers using describe()"
      ],
      "metadata": {
        "id": "8A-1DDwEx4TI"
      }
    },
    {
      "cell_type": "code",
      "source": [
        "print(\"Outliers (Summary Statistics):\\n\", df.describe(), '\\n')"
      ],
      "metadata": {
        "colab": {
          "base_uri": "https://localhost:8080/"
        },
        "id": "kqNhkgzmxVPV",
        "outputId": "5a16bbf6-5187-4a64-aec9-ecd961aca693"
      },
      "execution_count": 5,
      "outputs": [
        {
          "output_type": "stream",
          "name": "stdout",
          "text": [
            "Outliers (Summary Statistics):\n",
            "          RowNumber    CustomerId   CreditScore           Age        Tenure  \\\n",
            "count  10000.00000  1.000000e+04  10000.000000  10000.000000  10000.000000   \n",
            "mean    5000.50000  1.569094e+07    650.528800     38.921800      5.012800   \n",
            "std     2886.89568  7.193619e+04     96.653299     10.487806      2.892174   \n",
            "min        1.00000  1.556570e+07    350.000000     18.000000      0.000000   \n",
            "25%     2500.75000  1.562853e+07    584.000000     32.000000      3.000000   \n",
            "50%     5000.50000  1.569074e+07    652.000000     37.000000      5.000000   \n",
            "75%     7500.25000  1.575323e+07    718.000000     44.000000      7.000000   \n",
            "max    10000.00000  1.581569e+07    850.000000     92.000000     10.000000   \n",
            "\n",
            "             Balance  NumOfProducts    HasCrCard  IsActiveMember  \\\n",
            "count   10000.000000   10000.000000  10000.00000    10000.000000   \n",
            "mean    76485.889288       1.530200      0.70550        0.515100   \n",
            "std     62397.405202       0.581654      0.45584        0.499797   \n",
            "min         0.000000       1.000000      0.00000        0.000000   \n",
            "25%         0.000000       1.000000      0.00000        0.000000   \n",
            "50%     97198.540000       1.000000      1.00000        1.000000   \n",
            "75%    127644.240000       2.000000      1.00000        1.000000   \n",
            "max    250898.090000       4.000000      1.00000        1.000000   \n",
            "\n",
            "       EstimatedSalary        Exited  \n",
            "count     10000.000000  10000.000000  \n",
            "mean     100090.239881      0.203700  \n",
            "std       57510.492818      0.402769  \n",
            "min          11.580000      0.000000  \n",
            "25%       51002.110000      0.000000  \n",
            "50%      100193.915000      0.000000  \n",
            "75%      149388.247500      0.000000  \n",
            "max      199992.480000      1.000000   \n",
            "\n"
          ]
        }
      ]
    },
    {
      "cell_type": "code",
      "source": [
        "df = df.drop(['Surname', 'Geography', 'Gender'], axis=1)"
      ],
      "metadata": {
        "id": "2JFjNll9xXwG"
      },
      "execution_count": 6,
      "outputs": []
    },
    {
      "cell_type": "code",
      "source": [
        "scaler = MinMaxScaler()\n",
        "df_normalized = pd.DataFrame(scaler.fit_transform(df.drop('Exited', axis=1)), columns=df.columns[:-1])"
      ],
      "metadata": {
        "id": "WcKOzWncxaK-"
      },
      "execution_count": 7,
      "outputs": []
    },
    {
      "cell_type": "markdown",
      "source": [
        "Normalized Dataset"
      ],
      "metadata": {
        "id": "Ci7FdjhWyCr-"
      }
    },
    {
      "cell_type": "code",
      "source": [
        "print(\"Normalized dataset:\\n\", df_normalized.head(), \"\\n\")"
      ],
      "metadata": {
        "colab": {
          "base_uri": "https://localhost:8080/"
        },
        "id": "lCzpJYnAxde-",
        "outputId": "61ea1743-9afe-4400-d502-55205f21bbc5"
      },
      "execution_count": 8,
      "outputs": [
        {
          "output_type": "stream",
          "name": "stdout",
          "text": [
            "Normalized dataset:\n",
            "    RowNumber  CustomerId  CreditScore       Age  Tenure   Balance  \\\n",
            "0     0.0000    0.275616        0.538  0.324324     0.2  0.000000   \n",
            "1     0.0001    0.326454        0.516  0.310811     0.1  0.334031   \n",
            "2     0.0002    0.214421        0.304  0.324324     0.8  0.636357   \n",
            "3     0.0003    0.542636        0.698  0.283784     0.1  0.000000   \n",
            "4     0.0004    0.688778        1.000  0.337838     0.2  0.500246   \n",
            "\n",
            "   NumOfProducts  HasCrCard  IsActiveMember  EstimatedSalary  \n",
            "0       0.000000        1.0             1.0         0.506735  \n",
            "1       0.000000        0.0             1.0         0.562709  \n",
            "2       0.666667        1.0             0.0         0.569654  \n",
            "3       0.333333        0.0             0.0         0.469120  \n",
            "4       0.000000        1.0             1.0         0.395400   \n",
            "\n"
          ]
        }
      ]
    },
    {
      "cell_type": "code",
      "source": [
        "X = df_normalized.values\n",
        "y = df['Exited'].values"
      ],
      "metadata": {
        "id": "pjKu1z7LxfoN"
      },
      "execution_count": 9,
      "outputs": []
    },
    {
      "cell_type": "markdown",
      "source": [
        "Input And Output Values"
      ],
      "metadata": {
        "id": "t-oGiEKWyGny"
      }
    },
    {
      "cell_type": "code",
      "source": [
        "print(\"Input Values (Features):\\n\", X[:5])\n",
        "print(\"\\nOutput Values (Target):\\n\", y[:5])"
      ],
      "metadata": {
        "colab": {
          "base_uri": "https://localhost:8080/"
        },
        "id": "6fOp9vDCxhJe",
        "outputId": "efc4263e-0152-4a68-ef4d-974c18f403ef"
      },
      "execution_count": 10,
      "outputs": [
        {
          "output_type": "stream",
          "name": "stdout",
          "text": [
            "Input Values (Features):\n",
            " [[0.00000000e+00 2.75616127e-01 5.38000000e-01 3.24324324e-01\n",
            "  2.00000000e-01 0.00000000e+00 0.00000000e+00 1.00000000e+00\n",
            "  1.00000000e+00 5.06734893e-01]\n",
            " [1.00010001e-04 3.26454364e-01 5.16000000e-01 3.10810811e-01\n",
            "  1.00000000e-01 3.34031479e-01 0.00000000e+00 0.00000000e+00\n",
            "  1.00000000e+00 5.62708739e-01]\n",
            " [2.00020002e-04 2.14421435e-01 3.04000000e-01 3.24324324e-01\n",
            "  8.00000000e-01 6.36357176e-01 6.66666667e-01 1.00000000e+00\n",
            "  0.00000000e+00 5.69654352e-01]\n",
            " [3.00030003e-04 5.42635876e-01 6.98000000e-01 2.83783784e-01\n",
            "  1.00000000e-01 0.00000000e+00 3.33333333e-01 0.00000000e+00\n",
            "  0.00000000e+00 4.69120051e-01]\n",
            " [4.00040004e-04 6.88778306e-01 1.00000000e+00 3.37837838e-01\n",
            "  2.00000000e-01 5.00246216e-01 0.00000000e+00 1.00000000e+00\n",
            "  1.00000000e+00 3.95400361e-01]]\n",
            "\n",
            "Output Values (Target):\n",
            " [1 0 1 0 0]\n"
          ]
        }
      ]
    },
    {
      "cell_type": "code",
      "source": [
        "X_train, X_test, y_train, y_test = train_test_split(X, y, test_size=0.2, random_state=42)"
      ],
      "metadata": {
        "id": "QABjzgJ5xi9e"
      },
      "execution_count": 11,
      "outputs": []
    },
    {
      "cell_type": "markdown",
      "source": [
        "Splitting The Data Fot Training and Testing"
      ],
      "metadata": {
        "id": "GLRQ21FLyLTO"
      }
    },
    {
      "cell_type": "code",
      "source": [
        "print(f\"\\nTraining data size: {len(X_train)}\")\n",
        "print(f\"Testing data size: {len(X_test)}\")"
      ],
      "metadata": {
        "colab": {
          "base_uri": "https://localhost:8080/"
        },
        "id": "WAIKGYcSxlAp",
        "outputId": "20fc280a-6bd9-4f42-fb9c-e378755c44f5"
      },
      "execution_count": 12,
      "outputs": [
        {
          "output_type": "stream",
          "name": "stdout",
          "text": [
            "\n",
            "Training data size: 8000\n",
            "Testing data size: 2000\n"
          ]
        }
      ]
    }
  ]
}